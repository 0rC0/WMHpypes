{
 "cells": [
  {
   "cell_type": "code",
   "execution_count": 1,
   "id": "c13ab91b-e721-4f61-87cb-d01225a89823",
   "metadata": {},
   "outputs": [],
   "source": [
    "import sys, os, importlib\n",
    "sys.path.append(os.path.abspath('../'))\n",
    "from wmhpypes.interfaces import ibbmTum"
   ]
  },
  {
   "cell_type": "code",
   "execution_count": 2,
   "id": "bda6eebc-2915-4965-a05c-4f9615b9078b",
   "metadata": {},
   "outputs": [],
   "source": [
    "import numpy as np"
   ]
  },
  {
   "cell_type": "code",
   "execution_count": null,
   "id": "bd9d4764-9a5b-4c8b-8532-4a6067e9fc7e",
   "metadata": {},
   "outputs": [],
   "source": []
  },
  {
   "cell_type": "code",
   "execution_count": 3,
   "id": "d6620626-261a-43eb-ac48-4c0c9cdc8a48",
   "metadata": {},
   "outputs": [
    {
     "data": {
      "text/plain": [
       "'/media/orco/home_data/Dokumente/DZNE/WMHpypes/examples'"
      ]
     },
     "execution_count": 3,
     "metadata": {},
     "output_type": "execute_result"
    }
   ],
   "source": [
    "os.getcwd()"
   ]
  },
  {
   "cell_type": "code",
   "execution_count": 4,
   "id": "bf6e97cc-875a-483e-8773-606d5032cef9",
   "metadata": {},
   "outputs": [],
   "source": [
    "test_data_dir = os.path.abspath('../test_data')\n",
    "weights_dir = os.path.join(test_data_dir, 'model_FLAIR_only')\n",
    "out_dir = os.path.join(test_data_dir, 'results_FLAIR_only')\n",
    "wf_work_dir = os.path.join(test_data_dir, 'wf_work_dir')"
   ]
  },
  {
   "cell_type": "code",
   "execution_count": 5,
   "id": "58b586f4-d788-4f69-9a87-dce572a66b25",
   "metadata": {},
   "outputs": [],
   "source": [
    "flair = '/media/orco/home_data/Dokumente/DZNE/WMHpypes/test_data/sub-test/sub-test_FLAIR.nii.gz'\n",
    "weights = [os.path.abspath(os.path.join(weights_dir, i)) for i in os.listdir(weights_dir)]"
   ]
  },
  {
   "cell_type": "code",
   "execution_count": 6,
   "id": "c9f0eb46-500f-48b8-bd3e-01113d509664",
   "metadata": {},
   "outputs": [
    {
     "data": {
      "text/plain": [
       "True"
      ]
     },
     "execution_count": 6,
     "metadata": {},
     "output_type": "execute_result"
    }
   ],
   "source": [
    "os.path.isfile(weights[0])"
   ]
  },
  {
   "cell_type": "code",
   "execution_count": null,
   "id": "beaed086-fe75-4dc0-9b33-4cf23e56f81c",
   "metadata": {},
   "outputs": [],
   "source": [
    "# Preprocessing"
   ]
  },
  {
   "cell_type": "code",
   "execution_count": null,
   "id": "71dc4e55-f962-49d1-b539-895f8411dc56",
   "metadata": {},
   "outputs": [],
   "source": [
    "p = ibbmTum.Preprocessing()"
   ]
  },
  {
   "cell_type": "code",
   "execution_count": null,
   "id": "54608b11-9191-4084-a544-ace0a6ea8f24",
   "metadata": {},
   "outputs": [],
   "source": [
    "p.inputs.cols_standard=200\n",
    "p.inputs.rows_standard=200\n",
    "p.inputs.flair = flair\n",
    "p.inputs.thres = 30"
   ]
  },
  {
   "cell_type": "code",
   "execution_count": null,
   "id": "045d2adc-4a2f-4540-a959-7a1874e3c5db",
   "metadata": {},
   "outputs": [],
   "source": [
    "res = p.run()"
   ]
  },
  {
   "cell_type": "code",
   "execution_count": null,
   "id": "cc18f910-d1a9-4963-82a0-9ca62fc612d8",
   "metadata": {
    "tags": []
   },
   "outputs": [],
   "source": [
    "res.outputs"
   ]
  },
  {
   "cell_type": "code",
   "execution_count": null,
   "id": "8e280752-0cae-445b-8016-b7da45d3d6cb",
   "metadata": {},
   "outputs": [],
   "source": [
    "importlib.reload(ibbmTum)"
   ]
  },
  {
   "cell_type": "code",
   "execution_count": 7,
   "id": "a69c5d86-6db1-4cd4-9358-d1946623aa9a",
   "metadata": {},
   "outputs": [],
   "source": [
    "# Predict\n",
    "predict_input = np.load('./preprocessed.npy')"
   ]
  },
  {
   "cell_type": "code",
   "execution_count": 8,
   "id": "a1bae734-23e6-4228-8ca2-680dd633ce2f",
   "metadata": {},
   "outputs": [],
   "source": [
    "# from keras import backend as K\n",
    "# K.set_session(K.tf.Session(config=K.tf.ConfigProto(intra_op_parallelism_threads=1,\n",
    "#                                                    inter_op_parallelism_threads=1)))"
   ]
  },
  {
   "cell_type": "code",
   "execution_count": 9,
   "id": "7fc0aae1-5f39-453d-a963-05916ceb2c1a",
   "metadata": {},
   "outputs": [],
   "source": [
    "p = ibbmTum.Predict()"
   ]
  },
  {
   "cell_type": "code",
   "execution_count": 10,
   "id": "9be0a067-41ab-48f1-826c-f6374e9d8b73",
   "metadata": {},
   "outputs": [],
   "source": [
    "p.inputs.slice_shape = (200,200,1)\n",
    "p.inputs.preprocessed_array = predict_input\n",
    "p.inputs.weights = weights"
   ]
  },
  {
   "cell_type": "code",
   "execution_count": 11,
   "id": "65f5d496-60ef-4b83-8017-0120dfb4a81d",
   "metadata": {},
   "outputs": [
    {
     "name": "stdout",
     "output_type": "stream",
     "text": [
      "48/48 [==============================] - 7s 139ms/step\n",
      "48/48 [==============================] - 7s 144ms/step\n",
      "48/48 [==============================] - 6s 130ms/step\n"
     ]
    }
   ],
   "source": [
    "res = p.run()"
   ]
  },
  {
   "cell_type": "code",
   "execution_count": null,
   "id": "77468c46-86e7-4d40-b520-258665cfe14a",
   "metadata": {},
   "outputs": [],
   "source": []
  },
  {
   "cell_type": "code",
   "execution_count": null,
   "id": "3c2bf923-c187-440c-a56f-3850ef03ff22",
   "metadata": {},
   "outputs": [],
   "source": []
  }
 ],
 "metadata": {
  "kernelspec": {
   "display_name": "Python 3",
   "language": "python",
   "name": "python3"
  },
  "language_info": {
   "codemirror_mode": {
    "name": "ipython",
    "version": 3
   },
   "file_extension": ".py",
   "mimetype": "text/x-python",
   "name": "python",
   "nbconvert_exporter": "python",
   "pygments_lexer": "ipython3",
   "version": "3.9.4"
  }
 },
 "nbformat": 4,
 "nbformat_minor": 5
}
