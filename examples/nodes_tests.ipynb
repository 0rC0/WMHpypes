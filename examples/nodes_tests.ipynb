{
 "cells": [
  {
   "cell_type": "code",
   "execution_count": null,
   "id": "c13ab91b-e721-4f61-87cb-d01225a89823",
   "metadata": {},
   "outputs": [],
   "source": [
    "import sys, os, importlib\n",
    "sys.path.append(os.path.abspath('../'))\n",
    "from wmhpypes.interfaces import ibbmTum"
   ]
  },
  {
   "cell_type": "code",
   "execution_count": null,
   "id": "bda6eebc-2915-4965-a05c-4f9615b9078b",
   "metadata": {},
   "outputs": [],
   "source": [
    "import importlib\n",
    "importlib.reload(ibbmTum)"
   ]
  },
  {
   "cell_type": "code",
   "execution_count": null,
   "id": "bd9d4764-9a5b-4c8b-8532-4a6067e9fc7e",
   "metadata": {},
   "outputs": [],
   "source": []
  },
  {
   "cell_type": "code",
   "execution_count": null,
   "id": "d6620626-261a-43eb-ac48-4c0c9cdc8a48",
   "metadata": {},
   "outputs": [],
   "source": [
    "os.getcwd()"
   ]
  },
  {
   "cell_type": "code",
   "execution_count": null,
   "id": "bf6e97cc-875a-483e-8773-606d5032cef9",
   "metadata": {},
   "outputs": [],
   "source": [
    "test_data_dir = os.path.abspath('../test_data')\n",
    "weights_dir = os.path.join(test_data_dir, 'model_FLAIR_only')\n",
    "out_dir = os.path.join(test_data_dir, 'results_FLAIR_only')\n",
    "wf_work_dir = os.path.join(test_data_dir, 'wf_work_dir')"
   ]
  },
  {
   "cell_type": "code",
   "execution_count": null,
   "id": "58b586f4-d788-4f69-9a87-dce572a66b25",
   "metadata": {},
   "outputs": [],
   "source": [
    "flair = '/media/orco/home_data/Dokumente/DZNE/WMHpypes/test_data/sub-test/sub-test_FLAIR.nii.gz'\n",
    "weights = [os.path.abspath(os.path.join(weights_dir, i)) for i in os.listdir(weights_dir)]"
   ]
  },
  {
   "cell_type": "code",
   "execution_count": null,
   "id": "c9f0eb46-500f-48b8-bd3e-01113d509664",
   "metadata": {},
   "outputs": [],
   "source": [
    "os.path.isfile(weights[0])"
   ]
  },
  {
   "cell_type": "code",
   "execution_count": null,
   "id": "beaed086-fe75-4dc0-9b33-4cf23e56f81c",
   "metadata": {},
   "outputs": [],
   "source": [
    "# Preprocessing"
   ]
  },
  {
   "cell_type": "code",
   "execution_count": null,
   "id": "71dc4e55-f962-49d1-b539-895f8411dc56",
   "metadata": {},
   "outputs": [],
   "source": [
    "p = ibbmTum.Preprocessing()"
   ]
  },
  {
   "cell_type": "code",
   "execution_count": null,
   "id": "54608b11-9191-4084-a544-ace0a6ea8f24",
   "metadata": {},
   "outputs": [],
   "source": [
    "p.inputs.cols_standard=200\n",
    "p.inputs.rows_standard=200\n",
    "p.inputs.flair = flair\n",
    "p.inputs.thres = 30"
   ]
  },
  {
   "cell_type": "code",
   "execution_count": null,
   "id": "045d2adc-4a2f-4540-a959-7a1874e3c5db",
   "metadata": {},
   "outputs": [],
   "source": [
    "res = p.run()"
   ]
  },
  {
   "cell_type": "code",
   "execution_count": null,
   "id": "cc18f910-d1a9-4963-82a0-9ca62fc612d8",
   "metadata": {
    "tags": []
   },
   "outputs": [],
   "source": [
    "res.outputs"
   ]
  },
  {
   "cell_type": "code",
   "execution_count": null,
   "id": "8e280752-0cae-445b-8016-b7da45d3d6cb",
   "metadata": {},
   "outputs": [],
   "source": [
    "importlib.reload(ibbmTum)"
   ]
  },
  {
   "cell_type": "code",
   "execution_count": null,
   "id": "a69c5d86-6db1-4cd4-9358-d1946623aa9a",
   "metadata": {},
   "outputs": [],
   "source": [
    "# Predict\n",
    "import numpy as np\n",
    "predict_input = np.load('./preprocessed.npy')"
   ]
  },
  {
   "cell_type": "code",
   "execution_count": null,
   "id": "a1bae734-23e6-4228-8ca2-680dd633ce2f",
   "metadata": {},
   "outputs": [],
   "source": [
    "# from keras import backend as K\n",
    "# K.set_session(K.tf.Session(config=K.tf.ConfigProto(intra_op_parallelism_threads=1,\n",
    "#                                                    inter_op_parallelism_threads=1)))"
   ]
  },
  {
   "cell_type": "code",
   "execution_count": null,
   "id": "7fc0aae1-5f39-453d-a963-05916ceb2c1a",
   "metadata": {},
   "outputs": [],
   "source": [
    "p = ibbmTum.Predict()"
   ]
  },
  {
   "cell_type": "code",
   "execution_count": null,
   "id": "9be0a067-41ab-48f1-826c-f6374e9d8b73",
   "metadata": {},
   "outputs": [],
   "source": [
    "p.inputs.slice_shape = (200,200,1)\n",
    "p.inputs.preprocessed_array = predict_input\n",
    "p.inputs.weights = weights"
   ]
  },
  {
   "cell_type": "code",
   "execution_count": null,
   "id": "65f5d496-60ef-4b83-8017-0120dfb4a81d",
   "metadata": {},
   "outputs": [],
   "source": [
    "predres = p.run()"
   ]
  },
  {
   "cell_type": "code",
   "execution_count": null,
   "id": "9ba9fbdd-b81a-4ddc-9ef2-26a8bd79fcd3",
   "metadata": {},
   "outputs": [],
   "source": [
    "#res.outputs.prediction"
   ]
  },
  {
   "cell_type": "code",
   "execution_count": null,
   "id": "77468c46-86e7-4d40-b520-258665cfe14a",
   "metadata": {},
   "outputs": [],
   "source": [
    "# Save prediction"
   ]
  },
  {
   "cell_type": "code",
   "execution_count": null,
   "id": "f6ced237-92cd-47d0-9a96-c8766da52ee4",
   "metadata": {},
   "outputs": [],
   "source": [
    "sp = ibbmTum.SavePrediction()\n",
    "sp.inputs.prediction_array = predres.outputs.prediction\n",
    "spres = sp.run()"
   ]
  },
  {
   "cell_type": "code",
   "execution_count": null,
   "id": "aff47228-c866-4450-9981-7906997b8839",
   "metadata": {},
   "outputs": [],
   "source": [
    "spres.outputs.prediction_nifti"
   ]
  },
  {
   "cell_type": "code",
   "execution_count": null,
   "id": "8e5e8752-df9b-47c7-84fb-d59ada08e847",
   "metadata": {},
   "outputs": [],
   "source": [
    "wmh_nii = '/home/orco/Documents/DZNE/WMHpypes/test_data/results_FLAIR_only/_sub-id_sub-test/prediction.nii.gz'"
   ]
  },
  {
   "cell_type": "code",
   "execution_count": null,
   "id": "ee2ead50-d0d6-403f-818d-5cb584310a67",
   "metadata": {},
   "outputs": [],
   "source": [
    "import nibabel as nib\n",
    "img = nib.load(wmh_nii)"
   ]
  },
  {
   "cell_type": "code",
   "execution_count": null,
   "id": "1fb7c1d2-0d0a-4adb-b5f2-4024e42545b5",
   "metadata": {},
   "outputs": [],
   "source": [
    "img.affine"
   ]
  },
  {
   "cell_type": "code",
   "execution_count": null,
   "id": "3c2bf923-c187-440c-a56f-3850ef03ff22",
   "metadata": {},
   "outputs": [],
   "source": [
    "# Extract affine"
   ]
  },
  {
   "cell_type": "code",
   "execution_count": null,
   "id": "c3f7a0cd-5f87-497f-bd3e-98c8245148c5",
   "metadata": {},
   "outputs": [],
   "source": [
    "from wmhpypes.interfaces import misc"
   ]
  },
  {
   "cell_type": "code",
   "execution_count": null,
   "id": "6bb99977-76d6-49db-8790-d9f47e0eaefd",
   "metadata": {},
   "outputs": [],
   "source": [
    "import importlib\n",
    "importlib.reload(misc)\n",
    "ExtractAffine = misc.ExtractAffine"
   ]
  },
  {
   "cell_type": "code",
   "execution_count": null,
   "id": "426e141e-da77-4b21-be05-907e69523a94",
   "metadata": {},
   "outputs": [],
   "source": [
    "ea = ExtractAffine()"
   ]
  },
  {
   "cell_type": "code",
   "execution_count": null,
   "id": "e4d0b425-ca66-4176-be99-a94c53c5f870",
   "metadata": {},
   "outputs": [],
   "source": [
    "ea.inputs.in_nii = '/media/orco/home_data/Dokumente/DZNE/WMHpypes/test_data/sub-test/sub-test_FLAIR.nii.gz'\n",
    "#ea.inputs.output_filename = 'affine.mat'"
   ]
  },
  {
   "cell_type": "code",
   "execution_count": null,
   "id": "f6aefc18-0c50-427a-a294-e3ef2d1123dd",
   "metadata": {},
   "outputs": [],
   "source": [
    "eares = ea.run()"
   ]
  },
  {
   "cell_type": "code",
   "execution_count": null,
   "id": "00e77c8b-cb9c-44ca-8c2b-6d4fea71d379",
   "metadata": {},
   "outputs": [],
   "source": [
    "eares.outputs.out_matrix"
   ]
  },
  {
   "cell_type": "code",
   "execution_count": null,
   "id": "9e2463fe-4aa1-4fb0-b4eb-9540e36dd363",
   "metadata": {},
   "outputs": [],
   "source": [
    "eares.outputs.out_file"
   ]
  },
  {
   "cell_type": "code",
   "execution_count": null,
   "id": "0903c5cb-8acb-428e-b69a-dd42af59a261",
   "metadata": {},
   "outputs": [],
   "source": [
    "# Save NIfTI"
   ]
  },
  {
   "cell_type": "code",
   "execution_count": null,
   "id": "263aa21f-c1a8-4f29-a340-59cd3e744dc6",
   "metadata": {},
   "outputs": [],
   "source": [
    "import importlib\n",
    "importlib.reload(misc)\n",
    "SaveNIfTI = misc.SaveNIfTI"
   ]
  },
  {
   "cell_type": "code",
   "execution_count": null,
   "id": "e2f04557-db39-4c3e-ac7f-ab3d2b771ad4",
   "metadata": {},
   "outputs": [],
   "source": [
    "sn = SaveNIfTI()\n",
    "sn.inputs.in_array = wmh_nii\n",
    "sn.inputs.in_header = '/media/orco/home_data/Dokumente/DZNE/WMHpypes/test_data/sub-test/sub-test_FLAIR.nii.gz'\n",
    "sn.inputs.in_matrix = np.loadtxt('affine.mat')\n",
    "sn.inputs.out_filename = 'wmh_mask'\n",
    "snres = sn.run()"
   ]
  },
  {
   "cell_type": "code",
   "execution_count": null,
   "id": "fc40548d-92bb-4a00-98a7-d36b943b577f",
   "metadata": {},
   "outputs": [],
   "source": [
    "import nilearn.plotting as plotting"
   ]
  },
  {
   "cell_type": "code",
   "execution_count": null,
   "id": "acef0f21-8004-4c21-9799-a3a9281c6b76",
   "metadata": {},
   "outputs": [],
   "source": [
    "nib.load('./wmh_mask.nii.gz')"
   ]
  },
  {
   "cell_type": "code",
   "execution_count": null,
   "id": "a7353851-f15c-4170-b630-96b44807ddb4",
   "metadata": {},
   "outputs": [],
   "source": [
    "plotting.plot_roi('./wmh_mask.nii.gz', '/media/orco/home_data/Dokumente/DZNE/WMHpypes/test_data/sub-test/sub-test_FLAIR.nii.gz')"
   ]
  },
  {
   "cell_type": "code",
   "execution_count": null,
   "id": "2a87206c-1954-44d3-9bc5-59fefe6c1e8a",
   "metadata": {},
   "outputs": [],
   "source": [
    "plotting.plot_roi('./prediction.nii.gz', '/media/orco/home_data/Dokumente/DZNE/WMHpypes/test_data/sub-test/sub-test_FLAIR.nii.gz')"
   ]
  },
  {
   "cell_type": "code",
   "execution_count": null,
   "id": "5aec0a46-92ee-49c2-8e35-5d2cf1d27d5b",
   "metadata": {},
   "outputs": [],
   "source": []
  },
  {
   "cell_type": "code",
   "execution_count": null,
   "id": "d0b67749-8eec-4236-8b7f-9f004644773b",
   "metadata": {},
   "outputs": [],
   "source": []
  },
  {
   "cell_type": "code",
   "execution_count": null,
   "id": "6f301502-e820-42e6-82ec-329cb6c4e7ff",
   "metadata": {},
   "outputs": [],
   "source": [
    "# CAT12 denoising"
   ]
  },
  {
   "cell_type": "code",
   "execution_count": null,
   "id": "8d01d3c6-7e84-4afc-8bdf-426e1047bde7",
   "metadata": {},
   "outputs": [],
   "source": [
    "from wmhpypes.interfaces import cat12\n",
    "import importlib\n",
    "importlib.reload(cat12)\n",
    "CAT12SANLMDenoising = cat12.CAT12SANLMDenoising"
   ]
  },
  {
   "cell_type": "code",
   "execution_count": null,
   "id": "b8f0c550-0f74-4181-a366-6463c1300765",
   "metadata": {},
   "outputs": [],
   "source": [
    "c = CAT12SANLMDenoising()"
   ]
  },
  {
   "cell_type": "code",
   "execution_count": null,
   "id": "d9f25866-1024-427c-bf0c-230f3032bda2",
   "metadata": {},
   "outputs": [],
   "source": [
    "c.inputs.in_files='sub-test_FLAIR.nii'\n",
    "c.inputs.rician = 0"
   ]
  },
  {
   "cell_type": "code",
   "execution_count": null,
   "id": "3d8ad56b-2aa7-4ebd-bfd7-9f23e08ee9cd",
   "metadata": {},
   "outputs": [],
   "source": [
    "res = c.run()"
   ]
  },
  {
   "cell_type": "code",
   "execution_count": null,
   "id": "063aa763-050e-40fa-9ac0-74a35400aa42",
   "metadata": {},
   "outputs": [],
   "source": [
    "res"
   ]
  },
  {
   "cell_type": "code",
   "execution_count": null,
   "id": "fff3a566-a6a8-4080-b484-5f1ce49ebe6b",
   "metadata": {},
   "outputs": [],
   "source": [
    "import sys, os\n",
    "sys.path.append(os.path.abspath('../'))\n",
    "\n",
    "from wmhpypes.workflows import ibbmTum_wf\n",
    "from nipype.pipeline.engine import Workflow, Node\n",
    "\n",
    "from nipype import IdentityInterface\n",
    "test_wf = ibbmTum_wf.get_test_wf()"
   ]
  },
  {
   "cell_type": "code",
   "execution_count": null,
   "id": "3d73b31f-0072-4e26-8855-d8ff7b760eac",
   "metadata": {},
   "outputs": [],
   "source": [
    "flair = Node(interface=IdentityInterface(fields=['flair']), name='flair')\n",
    "flair.inputs.flair = os.path.abspath('./sub-test_FLAIR.nii')\n",
    "weights = Node(interface=IdentityInterface(fields=['weights']), name='weights')\n",
    "weights.inputs.weights = [os.path.abspath('./0.h5')]\n",
    "sink = Node(interface=DataSink(), name ='sink')\n",
    "sink.inputs.base_directory = './out'\n",
    "\n",
    "wmh = Workflow(name='wmh', base_dir='./wf')\n",
    "wmh.connect(weights, 'weights', test_wf, 'inputspec.weights')\n",
    "wmh.connect(flair, 'flair', test_wf, 'inputspec.flair')"
   ]
  },
  {
   "cell_type": "code",
   "execution_count": null,
   "id": "d4b1e72d-b789-48dd-aba0-6dc5e006fd3c",
   "metadata": {},
   "outputs": [],
   "source": [
    "wmh.run()"
   ]
  },
  {
   "cell_type": "code",
   "execution_count": null,
   "id": "16647915-17bc-4ba2-9005-2c34aa57d363",
   "metadata": {},
   "outputs": [],
   "source": [
    "wmh.inputs"
   ]
  },
  {
   "cell_type": "code",
   "execution_count": null,
   "id": "578fbbc9-c456-44a8-a4c3-9c2145048c3c",
   "metadata": {},
   "outputs": [],
   "source": [
    "wmh.outputs"
   ]
  },
  {
   "cell_type": "code",
   "execution_count": null,
   "id": "2f14534d-cbc1-449c-a31a-e85ff68b9b1c",
   "metadata": {},
   "outputs": [],
   "source": []
  },
  {
   "cell_type": "code",
   "execution_count": 6,
   "id": "ad0101b4-56e8-43a0-9cca-7257e933df40",
   "metadata": {},
   "outputs": [
    {
     "data": {
      "text/plain": [
       "<module 'wmhpypes.interfaces.misc' from '/home/dellorcoa/anaconda3/envs/wmhpypes/lib/python3.9/site-packages/wmhpypes/interfaces/misc.py'>"
      ]
     },
     "execution_count": 6,
     "metadata": {},
     "output_type": "execute_result"
    }
   ],
   "source": [
    "import sys, os, importlib\n",
    "sys.path.append(os.path.abspath('../'))\n",
    "from wmhpypes.interfaces import misc\n",
    "import importlib\n",
    "importlib.reload(misc)"
   ]
  },
  {
   "cell_type": "code",
   "execution_count": 7,
   "id": "5266ea4b-3c7a-444f-9d6f-0d261918d6dd",
   "metadata": {},
   "outputs": [],
   "source": [
    "s = misc.SaveNIfTI()"
   ]
  },
  {
   "cell_type": "code",
   "execution_count": 8,
   "id": "135ce948-c7f4-4463-9d19-a9238ec653e3",
   "metadata": {},
   "outputs": [],
   "source": [
    "s.inputs.in_array = './prediction.nii'\n",
    "s.inputs.in_header = './sub-test_FLAIR.nii.gz'\n",
    "s.inputs.in_matrix = './sub-test_FLAIR.nii.gz'\n",
    "s.inputs.out_filename = 'pred_mod.nii.gz'"
   ]
  },
  {
   "cell_type": "code",
   "execution_count": 9,
   "id": "0da08c33-f02d-4abd-880e-51f5246c321c",
   "metadata": {},
   "outputs": [
    {
     "name": "stderr",
     "output_type": "stream",
     "text": [
      "sizeof_hdr should be 540; set sizeof_hdr to 540\n"
     ]
    },
    {
     "data": {
      "text/plain": [
       "<nipype.interfaces.base.support.InterfaceResult at 0x7f137fb48130>"
      ]
     },
     "execution_count": 9,
     "metadata": {},
     "output_type": "execute_result"
    }
   ],
   "source": [
    "s.run()"
   ]
  },
  {
   "cell_type": "code",
   "execution_count": null,
   "id": "35d5393b-b2c1-47f4-b943-f4707d4bc30c",
   "metadata": {},
   "outputs": [],
   "source": []
  }
 ],
 "metadata": {
  "kernelspec": {
   "display_name": "Python 3 (ipykernel)",
   "language": "python",
   "name": "python3"
  },
  "language_info": {
   "codemirror_mode": {
    "name": "ipython",
    "version": 3
   },
   "file_extension": ".py",
   "mimetype": "text/x-python",
   "name": "python",
   "nbconvert_exporter": "python",
   "pygments_lexer": "ipython3",
   "version": "3.9.6"
  }
 },
 "nbformat": 4,
 "nbformat_minor": 5
}
