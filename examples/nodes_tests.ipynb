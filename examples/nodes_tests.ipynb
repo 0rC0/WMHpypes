{
 "cells": [
  {
   "cell_type": "code",
   "execution_count": 52,
   "id": "c13ab91b-e721-4f61-87cb-d01225a89823",
   "metadata": {},
   "outputs": [],
   "source": [
    "import sys, os, importlib\n",
    "sys.path.append(os.path.abspath('../'))\n",
    "from wmhpypes.interfaces import ibbmTum"
   ]
  },
  {
   "cell_type": "code",
   "execution_count": 53,
   "id": "bda6eebc-2915-4965-a05c-4f9615b9078b",
   "metadata": {},
   "outputs": [
    {
     "data": {
      "text/plain": [
       "<module 'wmhpypes.interfaces.ibbmTum' from '/media/orco/home_data/Dokumente/DZNE/WMHpypes/wmhpypes/interfaces/ibbmTum.py'>"
      ]
     },
     "execution_count": 53,
     "metadata": {},
     "output_type": "execute_result"
    }
   ],
   "source": [
    "import importlib\n",
    "importlib.reload(ibbmTum)"
   ]
  },
  {
   "cell_type": "code",
   "execution_count": null,
   "id": "bd9d4764-9a5b-4c8b-8532-4a6067e9fc7e",
   "metadata": {},
   "outputs": [],
   "source": []
  },
  {
   "cell_type": "code",
   "execution_count": 3,
   "id": "d6620626-261a-43eb-ac48-4c0c9cdc8a48",
   "metadata": {},
   "outputs": [
    {
     "data": {
      "text/plain": [
       "'/media/orco/home_data/Dokumente/DZNE/WMHpypes/examples'"
      ]
     },
     "execution_count": 3,
     "metadata": {},
     "output_type": "execute_result"
    }
   ],
   "source": [
    "os.getcwd()"
   ]
  },
  {
   "cell_type": "code",
   "execution_count": 44,
   "id": "bf6e97cc-875a-483e-8773-606d5032cef9",
   "metadata": {},
   "outputs": [],
   "source": [
    "test_data_dir = os.path.abspath('../test_data')\n",
    "weights_dir = os.path.join(test_data_dir, 'model_FLAIR_only')\n",
    "out_dir = os.path.join(test_data_dir, 'results_FLAIR_only')\n",
    "wf_work_dir = os.path.join(test_data_dir, 'wf_work_dir')"
   ]
  },
  {
   "cell_type": "code",
   "execution_count": 45,
   "id": "58b586f4-d788-4f69-9a87-dce572a66b25",
   "metadata": {},
   "outputs": [],
   "source": [
    "flair = '/media/orco/home_data/Dokumente/DZNE/WMHpypes/test_data/sub-test/sub-test_FLAIR.nii.gz'\n",
    "weights = [os.path.abspath(os.path.join(weights_dir, i)) for i in os.listdir(weights_dir)]"
   ]
  },
  {
   "cell_type": "code",
   "execution_count": 6,
   "id": "c9f0eb46-500f-48b8-bd3e-01113d509664",
   "metadata": {},
   "outputs": [
    {
     "data": {
      "text/plain": [
       "True"
      ]
     },
     "execution_count": 6,
     "metadata": {},
     "output_type": "execute_result"
    }
   ],
   "source": [
    "os.path.isfile(weights[0])"
   ]
  },
  {
   "cell_type": "code",
   "execution_count": null,
   "id": "beaed086-fe75-4dc0-9b33-4cf23e56f81c",
   "metadata": {},
   "outputs": [],
   "source": [
    "# Preprocessing"
   ]
  },
  {
   "cell_type": "code",
   "execution_count": null,
   "id": "71dc4e55-f962-49d1-b539-895f8411dc56",
   "metadata": {},
   "outputs": [],
   "source": [
    "p = ibbmTum.Preprocessing()"
   ]
  },
  {
   "cell_type": "code",
   "execution_count": null,
   "id": "54608b11-9191-4084-a544-ace0a6ea8f24",
   "metadata": {},
   "outputs": [],
   "source": [
    "p.inputs.cols_standard=200\n",
    "p.inputs.rows_standard=200\n",
    "p.inputs.flair = flair\n",
    "p.inputs.thres = 30"
   ]
  },
  {
   "cell_type": "code",
   "execution_count": null,
   "id": "045d2adc-4a2f-4540-a959-7a1874e3c5db",
   "metadata": {},
   "outputs": [],
   "source": [
    "res = p.run()"
   ]
  },
  {
   "cell_type": "code",
   "execution_count": null,
   "id": "cc18f910-d1a9-4963-82a0-9ca62fc612d8",
   "metadata": {
    "tags": []
   },
   "outputs": [],
   "source": [
    "res.outputs"
   ]
  },
  {
   "cell_type": "code",
   "execution_count": 54,
   "id": "8e280752-0cae-445b-8016-b7da45d3d6cb",
   "metadata": {},
   "outputs": [
    {
     "data": {
      "text/plain": [
       "<module 'wmhpypes.interfaces.ibbmTum' from '/media/orco/home_data/Dokumente/DZNE/WMHpypes/wmhpypes/interfaces/ibbmTum.py'>"
      ]
     },
     "execution_count": 54,
     "metadata": {},
     "output_type": "execute_result"
    }
   ],
   "source": [
    "importlib.reload(ibbmTum)"
   ]
  },
  {
   "cell_type": "code",
   "execution_count": 73,
   "id": "a69c5d86-6db1-4cd4-9358-d1946623aa9a",
   "metadata": {},
   "outputs": [],
   "source": [
    "# Predict\n",
    "import numpy as np\n",
    "predict_input = np.load('./preprocessed.npy')"
   ]
  },
  {
   "cell_type": "code",
   "execution_count": 74,
   "id": "a1bae734-23e6-4228-8ca2-680dd633ce2f",
   "metadata": {},
   "outputs": [],
   "source": [
    "# from keras import backend as K\n",
    "# K.set_session(K.tf.Session(config=K.tf.ConfigProto(intra_op_parallelism_threads=1,\n",
    "#                                                    inter_op_parallelism_threads=1)))"
   ]
  },
  {
   "cell_type": "code",
   "execution_count": 75,
   "id": "7fc0aae1-5f39-453d-a963-05916ceb2c1a",
   "metadata": {},
   "outputs": [],
   "source": [
    "p = ibbmTum.Predict()"
   ]
  },
  {
   "cell_type": "code",
   "execution_count": 76,
   "id": "9be0a067-41ab-48f1-826c-f6374e9d8b73",
   "metadata": {},
   "outputs": [],
   "source": [
    "p.inputs.slice_shape = (200,200,1)\n",
    "p.inputs.preprocessed_array = predict_input\n",
    "p.inputs.weights = weights"
   ]
  },
  {
   "cell_type": "code",
   "execution_count": 77,
   "id": "65f5d496-60ef-4b83-8017-0120dfb4a81d",
   "metadata": {},
   "outputs": [
    {
     "name": "stdout",
     "output_type": "stream",
     "text": [
      "48/48 [==============================] - 7s 150ms/step\n",
      "48/48 [==============================] - 7s 147ms/step\n",
      "48/48 [==============================] - 7s 146ms/step\n"
     ]
    }
   ],
   "source": [
    "predres = p.run()"
   ]
  },
  {
   "cell_type": "code",
   "execution_count": 50,
   "id": "9ba9fbdd-b81a-4ddc-9ef2-26a8bd79fcd3",
   "metadata": {},
   "outputs": [],
   "source": [
    "#res.outputs.prediction"
   ]
  },
  {
   "cell_type": "code",
   "execution_count": 48,
   "id": "77468c46-86e7-4d40-b520-258665cfe14a",
   "metadata": {},
   "outputs": [],
   "source": [
    "# Save prediction"
   ]
  },
  {
   "cell_type": "code",
   "execution_count": 81,
   "id": "f6ced237-92cd-47d0-9a96-c8766da52ee4",
   "metadata": {},
   "outputs": [],
   "source": [
    "sp = ibbmTum.SavePrediction()\n",
    "sp.inputs.prediction_array = predres.outputs.prediction\n",
    "spres = sp.run()"
   ]
  },
  {
   "cell_type": "code",
   "execution_count": 82,
   "id": "aff47228-c866-4450-9981-7906997b8839",
   "metadata": {},
   "outputs": [
    {
     "data": {
      "text/plain": [
       "'/media/orco/home_data/Dokumente/DZNE/WMHpypes/examples/prediction.nii.gz'"
      ]
     },
     "execution_count": 82,
     "metadata": {},
     "output_type": "execute_result"
    }
   ],
   "source": [
    "spres.outputs.prediction_nifti"
   ]
  },
  {
   "cell_type": "code",
   "execution_count": 172,
   "id": "8e5e8752-df9b-47c7-84fb-d59ada08e847",
   "metadata": {},
   "outputs": [],
   "source": [
    "wmh_nii = '/home/orco/Documents/DZNE/WMHpypes/test_data/results_FLAIR_only/_sub-id_sub-test/prediction.nii.gz'"
   ]
  },
  {
   "cell_type": "code",
   "execution_count": 173,
   "id": "ee2ead50-d0d6-403f-818d-5cb584310a67",
   "metadata": {},
   "outputs": [],
   "source": [
    "import nibabel as nib\n",
    "img = nib.load(wmh_nii)"
   ]
  },
  {
   "cell_type": "code",
   "execution_count": 174,
   "id": "1fb7c1d2-0d0a-4adb-b5f2-4024e42545b5",
   "metadata": {},
   "outputs": [
    {
     "data": {
      "text/plain": [
       "array([[-1.,  0.,  0., -0.],\n",
       "       [ 0., -1.,  0., -0.],\n",
       "       [ 0.,  0.,  1.,  0.],\n",
       "       [ 0.,  0.,  0.,  1.]])"
      ]
     },
     "execution_count": 174,
     "metadata": {},
     "output_type": "execute_result"
    }
   ],
   "source": [
    "img.affine"
   ]
  },
  {
   "cell_type": "code",
   "execution_count": 85,
   "id": "3c2bf923-c187-440c-a56f-3850ef03ff22",
   "metadata": {},
   "outputs": [],
   "source": [
    "# Extract affine"
   ]
  },
  {
   "cell_type": "code",
   "execution_count": 86,
   "id": "c3f7a0cd-5f87-497f-bd3e-98c8245148c5",
   "metadata": {},
   "outputs": [],
   "source": [
    "from wmhpypes.interfaces import misc"
   ]
  },
  {
   "cell_type": "code",
   "execution_count": 108,
   "id": "6bb99977-76d6-49db-8790-d9f47e0eaefd",
   "metadata": {},
   "outputs": [],
   "source": [
    "import importlib\n",
    "importlib.reload(misc)\n",
    "ExtractAffine = misc.ExtractAffine"
   ]
  },
  {
   "cell_type": "code",
   "execution_count": 109,
   "id": "426e141e-da77-4b21-be05-907e69523a94",
   "metadata": {},
   "outputs": [],
   "source": [
    "ea = ExtractAffine()"
   ]
  },
  {
   "cell_type": "code",
   "execution_count": 110,
   "id": "e4d0b425-ca66-4176-be99-a94c53c5f870",
   "metadata": {},
   "outputs": [],
   "source": [
    "ea.inputs.in_nii = '/media/orco/home_data/Dokumente/DZNE/WMHpypes/test_data/sub-test/sub-test_FLAIR.nii.gz'\n",
    "#ea.inputs.output_filename = 'affine.mat'"
   ]
  },
  {
   "cell_type": "code",
   "execution_count": 111,
   "id": "f6aefc18-0c50-427a-a294-e3ef2d1123dd",
   "metadata": {},
   "outputs": [],
   "source": [
    "eares = ea.run()"
   ]
  },
  {
   "cell_type": "code",
   "execution_count": 112,
   "id": "00e77c8b-cb9c-44ca-8c2b-6d4fea71d379",
   "metadata": {},
   "outputs": [
    {
     "data": {
      "text/plain": [
       "array([[-9.53275442e-01,  9.80806947e-02, -2.18524262e-02,\n",
       "         1.06058022e+02],\n",
       "       [-8.63096491e-02, -8.67235959e-01, -1.24768543e+00,\n",
       "         1.25458771e+02],\n",
       "       [-4.71083708e-02, -3.95833969e-01,  2.72814965e+00,\n",
       "        -4.64936924e+00],\n",
       "       [ 0.00000000e+00,  0.00000000e+00,  0.00000000e+00,\n",
       "         1.00000000e+00]])"
      ]
     },
     "execution_count": 112,
     "metadata": {},
     "output_type": "execute_result"
    }
   ],
   "source": [
    "eares.outputs.out_matrix"
   ]
  },
  {
   "cell_type": "code",
   "execution_count": 113,
   "id": "9e2463fe-4aa1-4fb0-b4eb-9540e36dd363",
   "metadata": {},
   "outputs": [
    {
     "data": {
      "text/plain": [
       "'/media/orco/home_data/Dokumente/DZNE/WMHpypes/examples/affine.mat'"
      ]
     },
     "execution_count": 113,
     "metadata": {},
     "output_type": "execute_result"
    }
   ],
   "source": [
    "eares.outputs.out_file"
   ]
  },
  {
   "cell_type": "code",
   "execution_count": 132,
   "id": "0903c5cb-8acb-428e-b69a-dd42af59a261",
   "metadata": {},
   "outputs": [],
   "source": [
    "# Save NIfTI"
   ]
  },
  {
   "cell_type": "code",
   "execution_count": 175,
   "id": "263aa21f-c1a8-4f29-a340-59cd3e744dc6",
   "metadata": {},
   "outputs": [],
   "source": [
    "import importlib\n",
    "importlib.reload(misc)\n",
    "SaveNIfTI = misc.SaveNIfTI"
   ]
  },
  {
   "cell_type": "code",
   "execution_count": 176,
   "id": "e2f04557-db39-4c3e-ac7f-ab3d2b771ad4",
   "metadata": {},
   "outputs": [
    {
     "name": "stderr",
     "output_type": "stream",
     "text": [
      "sizeof_hdr should be 540; set sizeof_hdr to 540\n"
     ]
    }
   ],
   "source": [
    "sn = SaveNIfTI()\n",
    "sn.inputs.in_array = wmh_nii\n",
    "sn.inputs.in_header = '/media/orco/home_data/Dokumente/DZNE/WMHpypes/test_data/sub-test/sub-test_FLAIR.nii.gz'\n",
    "sn.inputs.in_matrix = np.loadtxt('affine.mat')\n",
    "sn.inputs.out_filename = 'wmh_mask'\n",
    "snres = sn.run()"
   ]
  },
  {
   "cell_type": "code",
   "execution_count": 177,
   "id": "fc40548d-92bb-4a00-98a7-d36b943b577f",
   "metadata": {},
   "outputs": [],
   "source": [
    "import nilearn.plotting as plotting"
   ]
  },
  {
   "cell_type": "code",
   "execution_count": 178,
   "id": "acef0f21-8004-4c21-9799-a3a9281c6b76",
   "metadata": {},
   "outputs": [
    {
     "data": {
      "text/plain": [
       "<nibabel.nifti2.Nifti2Image at 0x7fe24030bd60>"
      ]
     },
     "execution_count": 178,
     "metadata": {},
     "output_type": "execute_result"
    }
   ],
   "source": [
    "nib.load('./wmh_mask.nii.gz')"
   ]
  },
  {
   "cell_type": "code",
   "execution_count": 179,
   "id": "a7353851-f15c-4170-b630-96b44807ddb4",
   "metadata": {},
   "outputs": [
    {
     "data": {
      "text/plain": [
       "<nilearn.plotting.displays.OrthoSlicer at 0x7fe24032de20>"
      ]
     },
     "execution_count": 179,
     "metadata": {},
     "output_type": "execute_result"
    },
    {
     "data": {
      "image/png": "[encoded data removed]",
      "text/plain": [
       "<Figure size 475.2x187.2 with 4 Axes>"
      ]
     },
     "metadata": {},
     "output_type": "display_data"
    }
   ],
   "source": [
    "plotting.plot_roi('./wmh_mask.nii.gz', '/media/orco/home_data/Dokumente/DZNE/WMHpypes/test_data/sub-test/sub-test_FLAIR.nii.gz')"
   ]
  },
  {
   "cell_type": "code",
   "execution_count": 151,
   "id": "2a87206c-1954-44d3-9bc5-59fefe6c1e8a",
   "metadata": {},
   "outputs": [
    {
     "data": {
      "text/plain": [
       "<nilearn.plotting.displays.OrthoSlicer at 0x7fe258526d60>"
      ]
     },
     "execution_count": 151,
     "metadata": {},
     "output_type": "execute_result"
    },
    {
     "data": {
      "image/png": "[encoded data removed]",
      "text/plain": [
       "<Figure size 475.2x187.2 with 4 Axes>"
      ]
     },
     "metadata": {},
     "output_type": "display_data"
    }
   ],
   "source": [
    "plotting.plot_roi('./prediction.nii.gz', '/media/orco/home_data/Dokumente/DZNE/WMHpypes/test_data/sub-test/sub-test_FLAIR.nii.gz')"
   ]
  },
  {
   "cell_type": "code",
   "execution_count": null,
   "id": "5aec0a46-92ee-49c2-8e35-5d2cf1d27d5b",
   "metadata": {},
   "outputs": [],
   "source": []
  },
  {
   "cell_type": "code",
   "execution_count": null,
   "id": "d0b67749-8eec-4236-8b7f-9f004644773b",
   "metadata": {},
   "outputs": [],
   "source": []
  },
  {
   "cell_type": "code",
   "execution_count": null,
   "id": "6f301502-e820-42e6-82ec-329cb6c4e7ff",
   "metadata": {},
   "outputs": [],
   "source": []
  }
 ],
 "metadata": {
  "kernelspec": {
   "display_name": "Python 3",
   "language": "python",
   "name": "python3"
  },
  "language_info": {
   "codemirror_mode": {
    "name": "ipython",
    "version": 3
   },
   "file_extension": ".py",
   "mimetype": "text/x-python",
   "name": "python",
   "nbconvert_exporter": "python",
   "pygments_lexer": "ipython3",
   "version": "3.9.4"
  }
 },
 "nbformat": 4,
 "nbformat_minor": 5
}
